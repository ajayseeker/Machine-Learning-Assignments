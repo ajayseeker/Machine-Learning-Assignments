{
 "cells": [
  {
   "cell_type": "code",
   "execution_count": 3,
   "metadata": {},
   "outputs": [],
   "source": [
    "#Sai Ram\n",
    "from sklearn import datasets\n",
    "import numpy as np\n",
    "iris=datasets.load_iris()\n"
   ]
  },
  {
   "cell_type": "code",
   "execution_count": 4,
   "metadata": {},
   "outputs": [
    {
     "data": {
      "text/plain": [
       "sklearn.utils.Bunch"
      ]
     },
     "execution_count": 4,
     "metadata": {},
     "output_type": "execute_result"
    }
   ],
   "source": [
    "type(iris)"
   ]
  },
  {
   "cell_type": "code",
   "execution_count": 5,
   "metadata": {},
   "outputs": [
    {
     "name": "stdout",
     "output_type": "stream",
     "text": [
      "['setosa' 'versicolor' 'virginica']\n"
     ]
    }
   ],
   "source": [
    "print(iris[\"target_names\"])"
   ]
  },
  {
   "cell_type": "code",
   "execution_count": 6,
   "metadata": {},
   "outputs": [
    {
     "data": {
      "text/plain": [
       "(150, 4)"
      ]
     },
     "execution_count": 6,
     "metadata": {},
     "output_type": "execute_result"
    }
   ],
   "source": [
    "data=iris[\"data\"]\n",
    "data.shape"
   ]
  },
  {
   "cell_type": "code",
   "execution_count": 7,
   "metadata": {},
   "outputs": [],
   "source": [
    "target=iris[\"target\"]"
   ]
  },
  {
   "cell_type": "code",
   "execution_count": 8,
   "metadata": {},
   "outputs": [
    {
     "data": {
      "text/plain": [
       "(150,)"
      ]
     },
     "execution_count": 8,
     "metadata": {},
     "output_type": "execute_result"
    }
   ],
   "source": [
    "target.shape"
   ]
  },
  {
   "cell_type": "code",
   "execution_count": 89,
   "metadata": {},
   "outputs": [
    {
     "data": {
      "text/plain": [
       "array([0, 0, 0, 0, 0, 0, 0, 0, 0, 0, 0, 0, 0, 0, 0, 0, 0, 0, 0, 0, 0, 0,\n",
       "       0, 0, 0, 0, 0, 0, 0, 0, 0, 0, 0, 0, 0, 0, 0, 0, 0, 0, 0, 0, 0, 0,\n",
       "       0, 0, 0, 0, 0, 0, 1, 1, 1, 1, 1, 1, 1, 1, 1, 1, 1, 1, 1, 1, 1, 1,\n",
       "       1, 1, 1, 1, 1, 1, 1, 1, 1, 1, 1, 1, 1, 1, 1, 1, 1, 1, 1, 1, 1, 1,\n",
       "       1, 1, 1, 1, 1, 1, 1, 1, 1, 1, 1, 1, 2, 2, 2, 2, 2, 2, 2, 2, 2, 2,\n",
       "       2, 2, 2, 2, 2, 2, 2, 2, 2, 2, 2, 2, 2, 2, 2, 2, 2, 2, 2, 2, 2, 2,\n",
       "       2, 2, 2, 2, 2, 2, 2, 2, 2, 2, 2, 2, 2, 2, 2, 2, 2, 2])"
      ]
     },
     "execution_count": 89,
     "metadata": {},
     "output_type": "execute_result"
    }
   ],
   "source": [
    "target"
   ]
  },
  {
   "cell_type": "code",
   "execution_count": 53,
   "metadata": {},
   "outputs": [],
   "source": [
    "data_samples=[[],[],[]]\n",
    "for i in range(len(target)):\n",
    "    data_samples[target[i]].append([data[i]])"
   ]
  },
  {
   "cell_type": "code",
   "execution_count": 54,
   "metadata": {},
   "outputs": [
    {
     "name": "stdout",
     "output_type": "stream",
     "text": [
      "(50, 4)\n",
      "(50, 4)\n",
      "(50, 4)\n"
     ]
    }
   ],
   "source": [
    "for i in range(3):\n",
    "    data_samples[i]=np.reshape(np.array(data_samples[i]),[50,4])\n",
    "    print(np.array(data_samples[i]).shape)"
   ]
  },
  {
   "cell_type": "code",
   "execution_count": 55,
   "metadata": {},
   "outputs": [],
   "source": [
    "data_samples=np.array(data_samples)"
   ]
  },
  {
   "cell_type": "code",
   "execution_count": 56,
   "metadata": {},
   "outputs": [
    {
     "data": {
      "text/plain": [
       "(3, 50, 4)"
      ]
     },
     "execution_count": 56,
     "metadata": {},
     "output_type": "execute_result"
    }
   ],
   "source": [
    "data_samples.shape"
   ]
  },
  {
   "cell_type": "code",
   "execution_count": 57,
   "metadata": {},
   "outputs": [],
   "source": [
    "train_data_samples=[]\n",
    "test_data_samples=[]\n",
    "train_target_samples=[]\n",
    "test_target_samples=[]\n",
    "for i in range(3):\n",
    "    train_data_samples.append(data_samples[i][:35])\n",
    "    test_target_samples.append(target)\n",
    "train_data_samples=np.array(train_data_samples)\n",
    "\n",
    "for i in range(3):\n",
    "    test_data_samples.append(data_samples[i][35:50])\n",
    "test_data_samples=np.array(test_data_samples)"
   ]
  },
  {
   "cell_type": "code",
   "execution_count": 58,
   "metadata": {},
   "outputs": [
    {
     "data": {
      "text/plain": [
       "(3, 15, 4)"
      ]
     },
     "execution_count": 58,
     "metadata": {},
     "output_type": "execute_result"
    }
   ],
   "source": [
    "test_data_samples.shape\n"
   ]
  },
  {
   "cell_type": "code",
   "execution_count": 59,
   "metadata": {},
   "outputs": [],
   "source": [
    "mean=np.mean(train_data_samples,axis=1)"
   ]
  },
  {
   "cell_type": "code",
   "execution_count": 75,
   "metadata": {},
   "outputs": [
    {
     "data": {
      "text/plain": [
       "(3, 4)"
      ]
     },
     "execution_count": 75,
     "metadata": {},
     "output_type": "execute_result"
    }
   ],
   "source": [
    "mean.shape"
   ]
  },
  {
   "cell_type": "code",
   "execution_count": 61,
   "metadata": {},
   "outputs": [],
   "source": [
    "def variance(x):\n",
    "    m=np.average(x)\n",
    "    dev=x-m\n",
    "    sqr=dev**2\n",
    "    return np.sum(sqr)/len(x)\n",
    "def corrcoeff(x, y):\n",
    "    m1=np.average(x)\n",
    "    m2=np.average(y)\n",
    "    dev1=x-m1\n",
    "    dev2=y-m2\n",
    "    dev=dev1*dev2\n",
    "    corr=np.sum(dev)/len(x)\n",
    "    #den=np.sqrt(variance(x))*np.sqrt(variance(y))\n",
    "    return corr\n",
    "def cov(x, y):\n",
    "    return corrcoeff(x, y);\n",
    "def covariance_matrix(x):\n",
    "    cov=[[None, None, None, None],[None, None, None, None],[None, None, None, None],[None, None, None, None]]\n",
    "    for i in range(4):\n",
    "        for j in range(4):\n",
    "            if(i==j):\n",
    "                cov[i][j]=variance(x[i])\n",
    "            else:\n",
    "                cov[i][j]=corrcoeff(x[i],x[j])\n",
    "    return cov"
   ]
  },
  {
   "cell_type": "code",
   "execution_count": 62,
   "metadata": {},
   "outputs": [
    {
     "data": {
      "text/plain": [
       "array([[[5.1, 3.5, 1.4, 0.2],\n",
       "        [4.9, 3. , 1.4, 0.2],\n",
       "        [4.7, 3.2, 1.3, 0.2],\n",
       "        [4.6, 3.1, 1.5, 0.2],\n",
       "        [5. , 3.6, 1.4, 0.2],\n",
       "        [5.4, 3.9, 1.7, 0.4],\n",
       "        [4.6, 3.4, 1.4, 0.3],\n",
       "        [5. , 3.4, 1.5, 0.2],\n",
       "        [4.4, 2.9, 1.4, 0.2],\n",
       "        [4.9, 3.1, 1.5, 0.1],\n",
       "        [5.4, 3.7, 1.5, 0.2],\n",
       "        [4.8, 3.4, 1.6, 0.2],\n",
       "        [4.8, 3. , 1.4, 0.1],\n",
       "        [4.3, 3. , 1.1, 0.1],\n",
       "        [5.8, 4. , 1.2, 0.2],\n",
       "        [5.7, 4.4, 1.5, 0.4],\n",
       "        [5.4, 3.9, 1.3, 0.4],\n",
       "        [5.1, 3.5, 1.4, 0.3],\n",
       "        [5.7, 3.8, 1.7, 0.3],\n",
       "        [5.1, 3.8, 1.5, 0.3],\n",
       "        [5.4, 3.4, 1.7, 0.2],\n",
       "        [5.1, 3.7, 1.5, 0.4],\n",
       "        [4.6, 3.6, 1. , 0.2],\n",
       "        [5.1, 3.3, 1.7, 0.5],\n",
       "        [4.8, 3.4, 1.9, 0.2],\n",
       "        [5. , 3. , 1.6, 0.2],\n",
       "        [5. , 3.4, 1.6, 0.4],\n",
       "        [5.2, 3.5, 1.5, 0.2],\n",
       "        [5.2, 3.4, 1.4, 0.2],\n",
       "        [4.7, 3.2, 1.6, 0.2],\n",
       "        [4.8, 3.1, 1.6, 0.2],\n",
       "        [5.4, 3.4, 1.5, 0.4],\n",
       "        [5.2, 4.1, 1.5, 0.1],\n",
       "        [5.5, 4.2, 1.4, 0.2],\n",
       "        [4.9, 3.1, 1.5, 0.2]],\n",
       "\n",
       "       [[7. , 3.2, 4.7, 1.4],\n",
       "        [6.4, 3.2, 4.5, 1.5],\n",
       "        [6.9, 3.1, 4.9, 1.5],\n",
       "        [5.5, 2.3, 4. , 1.3],\n",
       "        [6.5, 2.8, 4.6, 1.5],\n",
       "        [5.7, 2.8, 4.5, 1.3],\n",
       "        [6.3, 3.3, 4.7, 1.6],\n",
       "        [4.9, 2.4, 3.3, 1. ],\n",
       "        [6.6, 2.9, 4.6, 1.3],\n",
       "        [5.2, 2.7, 3.9, 1.4],\n",
       "        [5. , 2. , 3.5, 1. ],\n",
       "        [5.9, 3. , 4.2, 1.5],\n",
       "        [6. , 2.2, 4. , 1. ],\n",
       "        [6.1, 2.9, 4.7, 1.4],\n",
       "        [5.6, 2.9, 3.6, 1.3],\n",
       "        [6.7, 3.1, 4.4, 1.4],\n",
       "        [5.6, 3. , 4.5, 1.5],\n",
       "        [5.8, 2.7, 4.1, 1. ],\n",
       "        [6.2, 2.2, 4.5, 1.5],\n",
       "        [5.6, 2.5, 3.9, 1.1],\n",
       "        [5.9, 3.2, 4.8, 1.8],\n",
       "        [6.1, 2.8, 4. , 1.3],\n",
       "        [6.3, 2.5, 4.9, 1.5],\n",
       "        [6.1, 2.8, 4.7, 1.2],\n",
       "        [6.4, 2.9, 4.3, 1.3],\n",
       "        [6.6, 3. , 4.4, 1.4],\n",
       "        [6.8, 2.8, 4.8, 1.4],\n",
       "        [6.7, 3. , 5. , 1.7],\n",
       "        [6. , 2.9, 4.5, 1.5],\n",
       "        [5.7, 2.6, 3.5, 1. ],\n",
       "        [5.5, 2.4, 3.8, 1.1],\n",
       "        [5.5, 2.4, 3.7, 1. ],\n",
       "        [5.8, 2.7, 3.9, 1.2],\n",
       "        [6. , 2.7, 5.1, 1.6],\n",
       "        [5.4, 3. , 4.5, 1.5]],\n",
       "\n",
       "       [[6.3, 3.3, 6. , 2.5],\n",
       "        [5.8, 2.7, 5.1, 1.9],\n",
       "        [7.1, 3. , 5.9, 2.1],\n",
       "        [6.3, 2.9, 5.6, 1.8],\n",
       "        [6.5, 3. , 5.8, 2.2],\n",
       "        [7.6, 3. , 6.6, 2.1],\n",
       "        [4.9, 2.5, 4.5, 1.7],\n",
       "        [7.3, 2.9, 6.3, 1.8],\n",
       "        [6.7, 2.5, 5.8, 1.8],\n",
       "        [7.2, 3.6, 6.1, 2.5],\n",
       "        [6.5, 3.2, 5.1, 2. ],\n",
       "        [6.4, 2.7, 5.3, 1.9],\n",
       "        [6.8, 3. , 5.5, 2.1],\n",
       "        [5.7, 2.5, 5. , 2. ],\n",
       "        [5.8, 2.8, 5.1, 2.4],\n",
       "        [6.4, 3.2, 5.3, 2.3],\n",
       "        [6.5, 3. , 5.5, 1.8],\n",
       "        [7.7, 3.8, 6.7, 2.2],\n",
       "        [7.7, 2.6, 6.9, 2.3],\n",
       "        [6. , 2.2, 5. , 1.5],\n",
       "        [6.9, 3.2, 5.7, 2.3],\n",
       "        [5.6, 2.8, 4.9, 2. ],\n",
       "        [7.7, 2.8, 6.7, 2. ],\n",
       "        [6.3, 2.7, 4.9, 1.8],\n",
       "        [6.7, 3.3, 5.7, 2.1],\n",
       "        [7.2, 3.2, 6. , 1.8],\n",
       "        [6.2, 2.8, 4.8, 1.8],\n",
       "        [6.1, 3. , 4.9, 1.8],\n",
       "        [6.4, 2.8, 5.6, 2.1],\n",
       "        [7.2, 3. , 5.8, 1.6],\n",
       "        [7.4, 2.8, 6.1, 1.9],\n",
       "        [7.9, 3.8, 6.4, 2. ],\n",
       "        [6.4, 2.8, 5.6, 2.2],\n",
       "        [6.3, 2.8, 5.1, 1.5],\n",
       "        [6.1, 2.6, 5.6, 1.4]]])"
      ]
     },
     "execution_count": 62,
     "metadata": {},
     "output_type": "execute_result"
    }
   ],
   "source": [
    "train_data_samples"
   ]
  },
  {
   "cell_type": "code",
   "execution_count": 63,
   "metadata": {},
   "outputs": [],
   "source": [
    "cov_prereq=[[],[],[]]"
   ]
  },
  {
   "cell_type": "code",
   "execution_count": 64,
   "metadata": {},
   "outputs": [],
   "source": [
    "for j in range(3):\n",
    "    for k in range(4):\n",
    "        l=[]\n",
    "        for i in range(35):\n",
    "            l.append(train_data_samples[j][i][k])\n",
    "        cov_prereq[j].append(l)\n",
    "        l=[]"
   ]
  },
  {
   "cell_type": "code",
   "execution_count": 65,
   "metadata": {},
   "outputs": [],
   "source": [
    "cov_prereq=np.array(cov_prereq)"
   ]
  },
  {
   "cell_type": "code",
   "execution_count": 66,
   "metadata": {},
   "outputs": [
    {
     "data": {
      "text/plain": [
       "(3, 4, 35)"
      ]
     },
     "execution_count": 66,
     "metadata": {},
     "output_type": "execute_result"
    }
   ],
   "source": [
    "cov_prereq.shape\n"
   ]
  },
  {
   "cell_type": "code",
   "execution_count": 67,
   "metadata": {},
   "outputs": [],
   "source": [
    "cov_mat=[]\n",
    "for i in range(3):\n",
    "    cov_mat.append(np.array(covariance_matrix(cov_prereq[i][:])))\n"
   ]
  },
  {
   "cell_type": "code",
   "execution_count": 68,
   "metadata": {},
   "outputs": [
    {
     "data": {
      "text/plain": [
       "(3, 35, 4)"
      ]
     },
     "execution_count": 68,
     "metadata": {},
     "output_type": "execute_result"
    }
   ],
   "source": [
    "train_data_samples.shape"
   ]
  },
  {
   "cell_type": "code",
   "execution_count": 69,
   "metadata": {},
   "outputs": [
    {
     "data": {
      "text/plain": [
       "[array([[ 0.12762449,  0.09972245,  0.01333061,  0.01404082],\n",
       "        [ 0.09972245,  0.13644082, -0.0012898 ,  0.01306122],\n",
       "        [ 0.01333061, -0.0012898 ,  0.02919184,  0.00469388],\n",
       "        [ 0.01404082,  0.01306122,  0.00469388,  0.00987755]]),\n",
       " array([[0.27678367, 0.09284082, 0.17644898, 0.0544898 ],\n",
       "        [0.09284082, 0.09929796, 0.08330612, 0.04391837],\n",
       "        [0.17644898, 0.08330612, 0.21722449, 0.07853061],\n",
       "        [0.0544898 , 0.04391837, 0.07853061, 0.04530612]]),\n",
       " array([[0.47056327, 0.12622041, 0.37013061, 0.04582041],\n",
       "        [0.12622041, 0.11890612, 0.09247347, 0.04627755],\n",
       "        [0.37013061, 0.09247347, 0.35733878, 0.05773061],\n",
       "        [0.04582041, 0.04627755, 0.05773061, 0.07262041]])]"
      ]
     },
     "execution_count": 69,
     "metadata": {},
     "output_type": "execute_result"
    }
   ],
   "source": [
    "cov_mat\n"
   ]
  },
  {
   "cell_type": "code",
   "execution_count": 70,
   "metadata": {},
   "outputs": [],
   "source": [
    "dets=[]\n",
    "for i in range(3):\n",
    "    dets.append(np.linalg.det(cov_mat[i]))"
   ]
  },
  {
   "cell_type": "code",
   "execution_count": 71,
   "metadata": {},
   "outputs": [
    {
     "data": {
      "text/plain": [
       "[1.4709203081573145e-06, 2.2508251548711838e-05, 0.00011957160190016035]"
      ]
     },
     "execution_count": 71,
     "metadata": {},
     "output_type": "execute_result"
    }
   ],
   "source": [
    "dets"
   ]
  },
  {
   "cell_type": "code",
   "execution_count": 83,
   "metadata": {},
   "outputs": [],
   "source": [
    "mat_inv=[]\n",
    "for i in range(3):\n",
    "    mat_inv.append(np.linalg.inv(cov_mat[i]))"
   ]
  },
  {
   "cell_type": "markdown",
   "metadata": {},
   "source": [
    "# Assuming Distinct Covariance Matrix "
   ]
  },
  {
   "cell_type": "code",
   "execution_count": 118,
   "metadata": {},
   "outputs": [],
   "source": [
    "#Since train data set has equal number of instances of each class priors are equal and hence avoided\n",
    "def descriminant1(dets, sample, mean, invs):\n",
    "    x=np.reshape(sample, [1,4])\n",
    "    ans= -np.log(dets)/2-(np.dot(np.dot(x, invs), np.transpose(x))-2*np.dot(np.dot(x, invs),mean)+np.dot(np.dot(np.transpose(mean), invs),mean))/2\n",
    "    return ans         "
   ]
  },
  {
   "cell_type": "code",
   "execution_count": 119,
   "metadata": {},
   "outputs": [
    {
     "data": {
      "text/plain": [
       "(3, 35, 4)"
      ]
     },
     "execution_count": 119,
     "metadata": {},
     "output_type": "execute_result"
    }
   ],
   "source": [
    "train_data_samples.shape"
   ]
  },
  {
   "cell_type": "markdown",
   "metadata": {},
   "source": [
    "# Testing model over Training Data"
   ]
  },
  {
   "cell_type": "code",
   "execution_count": 120,
   "metadata": {},
   "outputs": [],
   "source": [
    "pred=[]\n",
    "maximum=-1\n",
    "\n",
    "for i in range(3):\n",
    "    for k in range(35):\n",
    "        c=0\n",
    "        maximum=descriminant1(dets[0], train_data_samples[i][k], mean[0], mat_inv[0])\n",
    "        for j in range(1,3):\n",
    "            if(descriminant1(dets[j], train_data_samples[i][k], mean[j], mat_inv[j])>maximum):\n",
    "                maximum=descriminant1(dets[j], train_data_samples[i][k], mean[j], mat_inv[j])\n",
    "                c=j\n",
    "        pred.append(c)\n"
   ]
  },
  {
   "cell_type": "code",
   "execution_count": 121,
   "metadata": {},
   "outputs": [],
   "source": [
    "accuracy=[0,0,0]\n",
    "for i in range(3):\n",
    "    for j in range(35):\n",
    "        if(pred[j+35*i]==i):\n",
    "            accuracy[i]+=1"
   ]
  },
  {
   "cell_type": "code",
   "execution_count": 122,
   "metadata": {},
   "outputs": [
    {
     "data": {
      "text/plain": [
       "[35, 33, 34]"
      ]
     },
     "execution_count": 122,
     "metadata": {},
     "output_type": "execute_result"
    }
   ],
   "source": [
    "accuracy"
   ]
  },
  {
   "cell_type": "markdown",
   "metadata": {},
   "source": [
    "# Testing model over Test Data "
   ]
  },
  {
   "cell_type": "code",
   "execution_count": 123,
   "metadata": {},
   "outputs": [],
   "source": [
    "pred=[]\n",
    "maximum=-1\n",
    "\n",
    "for i in range(3):\n",
    "    for k in range(15):\n",
    "        c=0\n",
    "        maximum=descriminant1(dets[0], test_data_samples[i][k], mean[0], mat_inv[0])\n",
    "        for j in range(1,3):\n",
    "            if(descriminant1(dets[j], test_data_samples[i][k], mean[j], mat_inv[j])>maximum):\n",
    "                maximum=descriminant1(dets[j], test_data_samples[i][k], mean[j], mat_inv[j])\n",
    "                c=j\n",
    "        pred.append(c)\n"
   ]
  },
  {
   "cell_type": "code",
   "execution_count": 124,
   "metadata": {},
   "outputs": [],
   "source": [
    "accuracy=[0,0,0]\n",
    "for i in range(3):\n",
    "    for j in range(15):\n",
    "        if(pred[j+15*i]==i):\n",
    "            accuracy[i]+=1"
   ]
  },
  {
   "cell_type": "code",
   "execution_count": 125,
   "metadata": {},
   "outputs": [
    {
     "data": {
      "text/plain": [
       "[15, 15, 15]"
      ]
     },
     "execution_count": 125,
     "metadata": {},
     "output_type": "execute_result"
    }
   ],
   "source": [
    "accuracy"
   ]
  },
  {
   "cell_type": "markdown",
   "metadata": {},
   "source": [
    "# Using Same Covariance Matrix "
   ]
  },
  {
   "cell_type": "code",
   "execution_count": 126,
   "metadata": {},
   "outputs": [],
   "source": [
    "#Since all classes have equal instances of training examples it suffices to take mean of the inverse of covariance matrix as common covariance matrix\n",
    "common_cov_inv=sum(mat_inv)/3"
   ]
  },
  {
   "cell_type": "code",
   "execution_count": 127,
   "metadata": {},
   "outputs": [],
   "source": [
    "#Since train data set has equal number of instances of each class priors are equal and hence avoided\n",
    "def descriminant2(sample, mean, invs):\n",
    "    x=np.reshape(sample, [1,4])\n",
    "    ans= -(np.dot(np.dot(x, invs), np.transpose(x))-2*np.dot(np.dot(x, invs),mean)+np.dot(np.dot(np.transpose(mean), invs),mean))/2\n",
    "    return ans       "
   ]
  },
  {
   "cell_type": "markdown",
   "metadata": {},
   "source": [
    "## Testing the model over Train data "
   ]
  },
  {
   "cell_type": "code",
   "execution_count": 133,
   "metadata": {},
   "outputs": [],
   "source": [
    "pred=[]\n",
    "maximum=-1\n",
    "\n",
    "for i in range(3):\n",
    "    for k in range(35):\n",
    "        c=0\n",
    "        maximum=descriminant1(dets[0], train_data_samples[i][k], mean[0], mat_inv[0])\n",
    "        for j in range(1,3):\n",
    "            if(descriminant1(dets[j], train_data_samples[i][k], mean[j], mat_inv[j])>maximum):\n",
    "                maximum=descriminant1(dets[j], train_data_samples[i][k], mean[j], mat_inv[j])\n",
    "                c=j\n",
    "        pred.append(c)\n"
   ]
  },
  {
   "cell_type": "code",
   "execution_count": 134,
   "metadata": {},
   "outputs": [],
   "source": [
    "accuracy=[0,0,0]\n",
    "for i in range(3):\n",
    "    for j in range(35):\n",
    "        if(pred[j+35*i]==i):\n",
    "            accuracy[i]+=1"
   ]
  },
  {
   "cell_type": "code",
   "execution_count": 135,
   "metadata": {
    "scrolled": true
   },
   "outputs": [
    {
     "data": {
      "text/plain": [
       "[35, 33, 34]"
      ]
     },
     "execution_count": 135,
     "metadata": {},
     "output_type": "execute_result"
    }
   ],
   "source": [
    "accuracy"
   ]
  },
  {
   "cell_type": "markdown",
   "metadata": {},
   "source": [
    "## Testing the model over Test Data "
   ]
  },
  {
   "cell_type": "code",
   "execution_count": 136,
   "metadata": {},
   "outputs": [],
   "source": [
    "pred=[]\n",
    "maximum=-1\n",
    "for i in range(3):\n",
    "    for k in range(15):\n",
    "        c=0\n",
    "        maximum=descriminant2(test_data_samples[i][k], mean[0], common_cov_inv)\n",
    "        for j in range(1,3):\n",
    "            if(descriminant2( test_data_samples[i][k], mean[j], common_cov_inv)>maximum):\n",
    "                maximum=descriminant2(test_data_samples[i][k], mean[j], common_cov_inv)\n",
    "                c=j\n",
    "        pred.append(c)\n",
    "\n",
    "        "
   ]
  },
  {
   "cell_type": "code",
   "execution_count": 137,
   "metadata": {},
   "outputs": [],
   "source": [
    "accuracy=[0,0,0]\n",
    "for i in range(3):\n",
    "    for j in range(15):\n",
    "        if(pred[j+15*i]==i):\n",
    "            accuracy[i]+=1"
   ]
  },
  {
   "cell_type": "code",
   "execution_count": 138,
   "metadata": {
    "scrolled": false
   },
   "outputs": [
    {
     "data": {
      "text/plain": [
       "[15, 15, 15]"
      ]
     },
     "execution_count": 138,
     "metadata": {},
     "output_type": "execute_result"
    }
   ],
   "source": [
    "accuracy"
   ]
  },
  {
   "cell_type": "markdown",
   "metadata": {},
   "source": [
    "# Using Same Covariance Matrix with off Diagonal Zero "
   ]
  },
  {
   "cell_type": "code",
   "execution_count": 147,
   "metadata": {},
   "outputs": [],
   "source": [
    "cov_off=common_cov_inv.copy()"
   ]
  },
  {
   "cell_type": "code",
   "execution_count": 148,
   "metadata": {},
   "outputs": [],
   "source": [
    "for i in range(4):\n",
    "    for j in range(4):\n",
    "        if(i!=j):\n",
    "            cov_off[i][j]=0"
   ]
  },
  {
   "cell_type": "code",
   "execution_count": 149,
   "metadata": {},
   "outputs": [
    {
     "data": {
      "text/plain": [
       "array([[15.12836339,  0.        ,  0.        ,  0.        ],\n",
       "       [ 0.        , 18.68492836,  0.        ,  0.        ],\n",
       "       [ 0.        ,  0.        , 27.03157557,  0.        ],\n",
       "       [ 0.        ,  0.        ,  0.        , 77.28965785]])"
      ]
     },
     "execution_count": 149,
     "metadata": {},
     "output_type": "execute_result"
    }
   ],
   "source": [
    "cov_off"
   ]
  },
  {
   "cell_type": "code",
   "execution_count": 145,
   "metadata": {},
   "outputs": [],
   "source": [
    "#Since train data set has equal number of instances of each class priors are equal and hence avoided\n",
    "def descriminant3(sample, mean, invs):\n",
    "    x=np.reshape(sample, [1,4])\n",
    "    ans= -(np.dot(np.dot(x, invs), np.transpose(x))-2*np.dot(np.dot(x, invs),mean)+np.dot(np.dot(np.transpose(mean), invs),mean))/2\n",
    "    return ans       "
   ]
  },
  {
   "cell_type": "markdown",
   "metadata": {},
   "source": [
    "## Testing the model over Train data "
   ]
  },
  {
   "cell_type": "code",
   "execution_count": 151,
   "metadata": {},
   "outputs": [],
   "source": [
    "pred=[]\n",
    "maximum=-1\n",
    "\n",
    "for i in range(3):\n",
    "    for k in range(35):\n",
    "        c=0\n",
    "        maximum=descriminant3( train_data_samples[i][k], mean[0], cov_off)\n",
    "        for j in range(1,3):\n",
    "            if(descriminant3( train_data_samples[i][k], mean[j], cov_off)>maximum):\n",
    "                maximum=descriminant3( train_data_samples[i][k], mean[j], cov_off)\n",
    "                c=j\n",
    "        pred.append(c)\n"
   ]
  },
  {
   "cell_type": "code",
   "execution_count": 152,
   "metadata": {},
   "outputs": [],
   "source": [
    "accuracy=[0,0,0]\n",
    "for i in range(3):\n",
    "    for j in range(35):\n",
    "        if(pred[j+35*i]==i):\n",
    "            accuracy[i]+=1"
   ]
  },
  {
   "cell_type": "code",
   "execution_count": 153,
   "metadata": {
    "scrolled": true
   },
   "outputs": [
    {
     "data": {
      "text/plain": [
       "[35, 34, 31]"
      ]
     },
     "execution_count": 153,
     "metadata": {},
     "output_type": "execute_result"
    }
   ],
   "source": [
    "accuracy"
   ]
  },
  {
   "cell_type": "markdown",
   "metadata": {},
   "source": [
    "## Testing the model over Test Data "
   ]
  },
  {
   "cell_type": "code",
   "execution_count": 154,
   "metadata": {},
   "outputs": [],
   "source": [
    "pred=[]\n",
    "maximum=-1\n",
    "for i in range(3):\n",
    "    for k in range(15):\n",
    "        c=0\n",
    "        maximum=descriminant3(test_data_samples[i][k], mean[0], cov_off)\n",
    "        for j in range(1,3):\n",
    "            if(descriminant3( test_data_samples[i][k], mean[j], cov_off)>maximum):\n",
    "                maximum=descriminant3(test_data_samples[i][k], mean[j], cov_off)\n",
    "                c=j\n",
    "        pred.append(c)\n",
    "\n",
    "        "
   ]
  },
  {
   "cell_type": "code",
   "execution_count": 155,
   "metadata": {},
   "outputs": [],
   "source": [
    "accuracy=[0,0,0]\n",
    "for i in range(3):\n",
    "    for j in range(15):\n",
    "        if(pred[j+15*i]==i):\n",
    "            accuracy[i]+=1"
   ]
  },
  {
   "cell_type": "code",
   "execution_count": 156,
   "metadata": {
    "scrolled": false
   },
   "outputs": [
    {
     "data": {
      "text/plain": [
       "[15, 15, 14]"
      ]
     },
     "execution_count": 156,
     "metadata": {},
     "output_type": "execute_result"
    }
   ],
   "source": [
    "accuracy"
   ]
  },
  {
   "cell_type": "code",
   "execution_count": null,
   "metadata": {},
   "outputs": [],
   "source": []
  }
 ],
 "metadata": {
  "kernelspec": {
   "display_name": "Python 3",
   "language": "python",
   "name": "python3"
  },
  "language_info": {
   "codemirror_mode": {
    "name": "ipython",
    "version": 3
   },
   "file_extension": ".py",
   "mimetype": "text/x-python",
   "name": "python",
   "nbconvert_exporter": "python",
   "pygments_lexer": "ipython3",
   "version": "3.5.2"
  }
 },
 "nbformat": 4,
 "nbformat_minor": 2
}
