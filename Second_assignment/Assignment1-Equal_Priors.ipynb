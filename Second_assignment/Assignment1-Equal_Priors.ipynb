{
 "cells": [
  {
   "cell_type": "markdown",
   "metadata": {},
   "source": [
    "# Assuming Equal Priors "
   ]
  },
  {
   "cell_type": "code",
   "execution_count": 1,
   "metadata": {},
   "outputs": [],
   "source": [
    "import numpy as np"
   ]
  },
  {
   "cell_type": "code",
   "execution_count": 2,
   "metadata": {},
   "outputs": [],
   "source": [
    "Mean1=[0.1, 0.8]\n",
    "Mean2=[0.5, 0.2]\n",
    "cov1=[[1,0],[0,1]]\n",
    "cov2=[[1, 1.5],[0, -1]]"
   ]
  },
  {
   "cell_type": "code",
   "execution_count": 3,
   "metadata": {},
   "outputs": [],
   "source": [
    "train_choice=np.random.choice(2, 50000,p=[0.5,0.5])\n",
    "test_choice=np.random.choice(2, 10000,p=[0.5,0.5])"
   ]
  },
  {
   "cell_type": "code",
   "execution_count": 4,
   "metadata": {},
   "outputs": [
    {
     "name": "stderr",
     "output_type": "stream",
     "text": [
      "/usr/local/lib/python3.5/dist-packages/ipykernel_launcher.py:7: RuntimeWarning: covariance is not symmetric positive-semidefinite.\n",
      "  import sys\n",
      "/usr/local/lib/python3.5/dist-packages/ipykernel_launcher.py:13: RuntimeWarning: covariance is not symmetric positive-semidefinite.\n",
      "  del sys.path[0]\n"
     ]
    }
   ],
   "source": [
    "train_samples=[]\n",
    "test_samples=[]\n",
    "for i in train_choice:\n",
    "    if(i==0):\n",
    "        train_samples.append([np.random.multivariate_normal(Mean1, cov1),0])\n",
    "    else:\n",
    "        train_samples.append([np.random.multivariate_normal(Mean2, cov2),1])\n",
    "\n",
    "for i in test_choice:\n",
    "    if(i==0):\n",
    "        test_samples.append([np.random.multivariate_normal(Mean1, cov1),0])\n",
    "    else:\n",
    "        test_samples.append([np.random.multivariate_normal(Mean2, cov2),1])            "
   ]
  },
  {
   "cell_type": "code",
   "execution_count": 5,
   "metadata": {},
   "outputs": [],
   "source": [
    "def variance(x):\n",
    "    m=np.average(x)\n",
    "    dev=x-m\n",
    "    sqr=dev**2\n",
    "    return np.sum(sqr)/len(x)\n",
    "def corrcoeff(x, y):\n",
    "    m1=np.average(x)\n",
    "    m2=np.average(y)\n",
    "    dev1=x-m1\n",
    "    dev2=y-m2\n",
    "    dev=dev1*dev2\n",
    "    corr=np.sum(dev)/len(x)\n",
    "    den=np.sqrt(variance(x))*np.sqrt(variance(y))\n",
    "    return corr/den\n",
    "def covariance_matrix(x, y):\n",
    "    cov=[[None, None],[None, None]]\n",
    "    cov[0][0]=variance(x)\n",
    "    cov[1][1]=variance(y)\n",
    "    cov[1][0]=cov[0][1]=corrcoeff(x, y)\n",
    "    return cov"
   ]
  },
  {
   "cell_type": "code",
   "execution_count": 6,
   "metadata": {},
   "outputs": [
    {
     "name": "stdout",
     "output_type": "stream",
     "text": [
      "[[ 1.         -0.00455265]\n",
      " [-0.00455265  1.        ]]\n",
      "[array([[0.08893964],\n",
      "       [0.7993103 ]]), array([[0.49418451],\n",
      "       [0.18923604]])]\n"
     ]
    }
   ],
   "source": [
    "x1=[]\n",
    "y1=[]\n",
    "x2=[]\n",
    "y2=[]\n",
    "for i in train_samples:\n",
    "    if(i[1]==0):\n",
    "        x1.append(i[0][0])\n",
    "        y1.append(i[0][1])\n",
    "    else:\n",
    "        x2.append(i[0][0])\n",
    "        y2.append(i[0][1])\n",
    "print(np.corrcoef(np.array([x1, y1])))\n",
    "cov1=covariance_matrix(np.array(x1), np.array(y1))\n",
    "cov2=covariance_matrix(np.array(x2), np.array(y2))\n",
    "mean=[None, None]\n",
    "mean[0]=np.array([np.average(x1), np.average(y1)]).reshape(2,1)\n",
    "mean[1]=np.array([np.average(x2), np.average(y2)]).reshape(2,1)\n",
    "print(mean)\n",
    "        "
   ]
  },
  {
   "cell_type": "code",
   "execution_count": 11,
   "metadata": {},
   "outputs": [
    {
     "name": "stdout",
     "output_type": "stream",
     "text": [
      "[0.49962, 0.50038]\n"
     ]
    }
   ],
   "source": [
    "priors=[len(x1)/50000, len(x2)/50000]\n",
    "print(priors)"
   ]
  },
  {
   "cell_type": "code",
   "execution_count": 12,
   "metadata": {},
   "outputs": [
    {
     "name": "stdout",
     "output_type": "stream",
     "text": [
      "[0.9988909908222083, 1.089412038449524]\n"
     ]
    }
   ],
   "source": [
    "det=[np.linalg.det(cov1), np.linalg.det(cov2)]\n",
    "print(det)"
   ]
  },
  {
   "cell_type": "code",
   "execution_count": 13,
   "metadata": {},
   "outputs": [],
   "source": [
    "invcov1=np.linalg.inv(np.matrix(cov1))\n",
    "invcov2=np.linalg.inv(np.matrix(cov2))\n",
    "inverse_cov=[invcov1, invcov2]"
   ]
  },
  {
   "cell_type": "code",
   "execution_count": 14,
   "metadata": {},
   "outputs": [
    {
     "name": "stdout",
     "output_type": "stream",
     "text": [
      "(1, 2)\n",
      "[[1.00908658 2.00687747]]\n",
      "[[5.02284152]]\n"
     ]
    }
   ],
   "source": [
    "a=np.array([1,2]).reshape([1,2])\n",
    "print(a.shape)\n",
    "a1=np.dot(a, invcov1)\n",
    "print(a1)\n",
    "print(np.dot(a1,np.transpose(a)))"
   ]
  },
  {
   "cell_type": "code",
   "execution_count": 25,
   "metadata": {},
   "outputs": [
    {
     "name": "stdout",
     "output_type": "stream",
     "text": [
      "(2, 1)\n"
     ]
    }
   ],
   "source": [
    "t=np.array(test_samples[0]).reshape(-1,1)\n",
    "print(t.shape)"
   ]
  },
  {
   "cell_type": "code",
   "execution_count": 19,
   "metadata": {
    "scrolled": true
   },
   "outputs": [
    {
     "data": {
      "text/plain": [
       "(2, 2)"
      ]
     },
     "execution_count": 19,
     "metadata": {},
     "output_type": "execute_result"
    }
   ],
   "source": [
    "invcov1.shape"
   ]
  },
  {
   "cell_type": "code",
   "execution_count": 60,
   "metadata": {},
   "outputs": [
    {
     "name": "stdout",
     "output_type": "stream",
     "text": [
      "(2, 2)\n",
      "(2,)\n",
      "[23 34]\n"
     ]
    }
   ],
   "source": [
    "a=np.array([[1,2],[3,4]])\n",
    "b=np.array([5,6])\n",
    "print(a.shape)\n",
    "print(b.shape)\n",
    "print(np.dot(b,a))"
   ]
  },
  {
   "cell_type": "code",
   "execution_count": 91,
   "metadata": {},
   "outputs": [
    {
     "data": {
      "text/plain": [
       "array([-0.69390747, -0.69238747])"
      ]
     },
     "execution_count": 91,
     "metadata": {},
     "output_type": "execute_result"
    }
   ],
   "source": [
    "np.log(priors)"
   ]
  },
  {
   "cell_type": "code",
   "execution_count": 66,
   "metadata": {},
   "outputs": [
    {
     "data": {
      "text/plain": [
       "[array([-0.46075649,  0.47169605]), 0]"
      ]
     },
     "execution_count": 66,
     "metadata": {},
     "output_type": "execute_result"
    }
   ],
   "source": [
    "test_samples[0]"
   ]
  },
  {
   "cell_type": "code",
   "execution_count": 99,
   "metadata": {},
   "outputs": [
    {
     "name": "stdout",
     "output_type": "stream",
     "text": [
      "(2, 1)\n",
      "[[-2.34458432]]\n",
      "[[-0.74263841]]\n"
     ]
    }
   ],
   "source": [
    "x=np.array(test_samples[67][0]).reshape(-1,1)\n",
    "print(x.shape)\n",
    "print(-np.log(det[0])/2-(np.dot(np.dot(x.T, invcov1), x))-2*np.dot(np.dot(x.T, invcov1), np.array(mean[0]))\n",
    "+np.dot(np.dot(np.array(mean[0]).T, invcov1),np.array(mean[0])))\n",
    "print(-np.log(det[0])/2-((np.dot(np.dot(x.T, invcov1), x))-2*np.dot(np.dot(x.T, invcov1), np.array(mean[0]))\n",
    "                               +np.dot(np.dot(np.array(mean[0]).T, invcov1),np.array(mean[0])))/2+np.log(priors[0]))\n",
    "\n",
    "\n",
    "    "
   ]
  },
  {
   "cell_type": "markdown",
   "metadata": {},
   "source": [
    "# Distinct Covariance Matrix\n"
   ]
  },
  {
   "cell_type": "code",
   "execution_count": 111,
   "metadata": {},
   "outputs": [],
   "source": [
    "def descriminant1(dets, sample, mean, prior, invs):\n",
    "    x=np.reshape(sample, [1,2])\n",
    "    ans= -np.log(dets)/2-(np.dot(np.dot(x, invs), np.transpose(x))-2*np.dot(np.dot(x, invs),mean)+np.dot(np.dot(np.transpose(mean), invs),mean))/2+np.log(prior)\n",
    "    return ans                   "
   ]
  },
  {
   "cell_type": "code",
   "execution_count": 114,
   "metadata": {},
   "outputs": [],
   "source": [
    "pred=[]\n",
    "maximum=-1\n",
    "\n",
    "for i in test_samples:\n",
    "    c=0\n",
    "    maximum=descriminant1(det[0], i[0], mean[0], priors[0], inverse_cov[0])\n",
    "    if(descriminant1(det[1], i[0], mean[1], priors[1], inverse_cov[1])>maximum):\n",
    "        maximum=descriminant1(det[1], i[0], mean[1], priors[1], inverse_cov[1])\n",
    "        c=1\n",
    "    pred.append(c)\n",
    "            \n",
    "            "
   ]
  },
  {
   "cell_type": "code",
   "execution_count": 115,
   "metadata": {},
   "outputs": [],
   "source": [
    "acc1=[0,0]\n",
    "for i in range(len(pred)):\n",
    "    if(pred[i]==test_samples[i][1]):\n",
    "        acc1[0]+=1\n",
    "    else:\n",
    "        acc1[1]+=1"
   ]
  },
  {
   "cell_type": "code",
   "execution_count": 116,
   "metadata": {},
   "outputs": [
    {
     "name": "stdout",
     "output_type": "stream",
     "text": [
      "0.675 % are predicted correctly and 0.325 % are mispredicted\n"
     ]
    }
   ],
   "source": [
    "print(acc1[0]/10000, \"% are predicted correctly and\", acc1[1]/10000, \"% are mispredicted\") "
   ]
  },
  {
   "cell_type": "markdown",
   "metadata": {},
   "source": [
    "# Common Variance Matrix "
   ]
  },
  {
   "cell_type": "code",
   "execution_count": 109,
   "metadata": {},
   "outputs": [],
   "source": [
    "S=priors[0]*inverse_cov[0]+priors[1]*inverse_cov[1]"
   ]
  },
  {
   "cell_type": "code",
   "execution_count": 117,
   "metadata": {},
   "outputs": [],
   "source": [
    "def descriminant2(dets, sample, mean, prior, invs):\n",
    "    x=np.reshape(sample, [1,2])\n",
    "    ans= -(np.dot(np.dot(x, invs), np.transpose(x))-2*np.dot(np.dot(x, invs),mean)+np.dot(np.dot(np.transpose(mean), invs),mean))/2+np.log(prior)\n",
    "    return ans                   "
   ]
  },
  {
   "cell_type": "code",
   "execution_count": 118,
   "metadata": {},
   "outputs": [],
   "source": [
    "pred=[]\n",
    "maximum=-1\n",
    "\n",
    "for i in test_samples:\n",
    "    c=0\n",
    "    maximum=descriminant1(det[0], i[0], mean[0], priors[0], S)\n",
    "    if(descriminant1(det[1], i[0], mean[1], priors[1], S)>maximum):\n",
    "        maximum=descriminant1(det[1], i[0], mean[1], priors[1], S)\n",
    "        c=1\n",
    "    pred.append(c)\n",
    "            \n",
    "            "
   ]
  },
  {
   "cell_type": "code",
   "execution_count": 119,
   "metadata": {},
   "outputs": [],
   "source": [
    "acc1=[0,0]\n",
    "for i in range(len(pred)):\n",
    "    if(pred[i]==test_samples[i][1]):\n",
    "        acc1[0]+=1\n",
    "    else:\n",
    "        acc1[1]+=1"
   ]
  },
  {
   "cell_type": "code",
   "execution_count": 120,
   "metadata": {},
   "outputs": [
    {
     "name": "stdout",
     "output_type": "stream",
     "text": [
      "0.6524 % are predicted correctly and 0.3476 % are mispredicted\n"
     ]
    }
   ],
   "source": [
    "print(acc1[0]/10000, \"% are predicted correctly and\", acc1[1]/10000, \"% are mispredicted\") "
   ]
  },
  {
   "cell_type": "markdown",
   "metadata": {},
   "source": [
    "# Common Covariance with offdiagonals zero "
   ]
  },
  {
   "cell_type": "code",
   "execution_count": 134,
   "metadata": {},
   "outputs": [],
   "source": [
    "SD=np.array(S)\n",
    "SD[0][1]=SD[1][0]=0"
   ]
  },
  {
   "cell_type": "code",
   "execution_count": 135,
   "metadata": {},
   "outputs": [
    {
     "data": {
      "text/plain": [
       "array([[1.27530635, 0.        ],\n",
       "       [0.        , 0.86912817]])"
      ]
     },
     "execution_count": 135,
     "metadata": {},
     "output_type": "execute_result"
    }
   ],
   "source": []
  },
  {
   "cell_type": "code",
   "execution_count": 164,
   "metadata": {},
   "outputs": [],
   "source": [
    "def descriminant3(dets, sample, mean, prior, invs):\n",
    "    x=np.reshape(sample, [2])\n",
    "    ans= -((((sample[0]-mean[0])/invs[0][0])**2)+(((sample[0]-mean[0])/invs[0][0])**2))/2+np.log(prior)\n",
    "    return ans                   "
   ]
  },
  {
   "cell_type": "code",
   "execution_count": 165,
   "metadata": {},
   "outputs": [],
   "source": [
    "pred=[]\n",
    "maximum=-1\n",
    "\n",
    "for i in test_samples:\n",
    "    c=0\n",
    "    maximum=descriminant3(det[0], i[0], mean[0], priors[0], SD)\n",
    "    if(descriminant3(det[1], i[0], mean[1], priors[1], SD)>maximum):\n",
    "        maximum=descriminant3(det[1], i[0], mean[1], priors[1], SD)\n",
    "        c=1\n",
    "    pred.append(c)\n",
    "            \n",
    "            "
   ]
  },
  {
   "cell_type": "code",
   "execution_count": 166,
   "metadata": {},
   "outputs": [],
   "source": [
    "acc1=[0,0]\n",
    "for i in range(len(pred)):\n",
    "    if(pred[i]==test_samples[i][1]):\n",
    "        acc1[0]+=1\n",
    "    else:\n",
    "        acc1[1]+=1"
   ]
  },
  {
   "cell_type": "code",
   "execution_count": 167,
   "metadata": {},
   "outputs": [
    {
     "name": "stdout",
     "output_type": "stream",
     "text": [
      "0.5744 % are predicted correctly and 0.4256 % are mispredicted\n"
     ]
    }
   ],
   "source": [
    "print(acc1[0]/10000, \"% are predicted correctly and\", acc1[1]/10000, \"% are mispredicted\") "
   ]
  },
  {
   "cell_type": "markdown",
   "metadata": {},
   "source": [
    "# Common Covariance and equal priors\n"
   ]
  },
  {
   "cell_type": "code",
   "execution_count": 159,
   "metadata": {},
   "outputs": [],
   "source": [
    "def descriminant4(sample, mean):\n",
    "    x=np.reshape(sample, [2,1])\n",
    "    mean=np.reshape(np.array(mean), [2,1])\n",
    "    ans= -(np.dot((x-mean).T,(x-mean)))\n",
    "    return ans                   "
   ]
  },
  {
   "cell_type": "code",
   "execution_count": 160,
   "metadata": {},
   "outputs": [],
   "source": [
    "pred=[]\n",
    "maximum=-1\n",
    "\n",
    "for i in test_samples:\n",
    "    c=0\n",
    "    maximum=descriminant4(i[0], mean[0])\n",
    "    if(descriminant4( i[0], mean[1])>maximum):\n",
    "        c=1\n",
    "    pred.append(c)\n",
    "            \n",
    "            "
   ]
  },
  {
   "cell_type": "code",
   "execution_count": 161,
   "metadata": {},
   "outputs": [],
   "source": [
    "pred=[]\n",
    "maximum=-1\n",
    "\n",
    "for i in test_samples:\n",
    "    c=0\n",
    "    maximum=descriminant3(det[0], i[0], mean[0], priors[0], SD)\n",
    "    if(descriminant3(det[1], i[0], mean[1], priors[1], SD)>maximum):\n",
    "        maximum=descriminant3(det[1], i[0], mean[1], priors[1], SD)\n",
    "        c=1\n",
    "    pred.append(c)\n",
    "            \n",
    "            "
   ]
  },
  {
   "cell_type": "code",
   "execution_count": 162,
   "metadata": {},
   "outputs": [],
   "source": [
    "acc1=[0,0]\n",
    "for i in range(len(pred)):\n",
    "    if(pred[i]==test_samples[i][1]):\n",
    "        acc1[0]+=1\n",
    "    else:\n",
    "        acc1[1]+=1"
   ]
  },
  {
   "cell_type": "code",
   "execution_count": 163,
   "metadata": {},
   "outputs": [
    {
     "name": "stdout",
     "output_type": "stream",
     "text": [
      "0.5744 % are predicted correctly and 0.4256 % are mispredicted\n"
     ]
    }
   ],
   "source": [
    "print(acc1[0]/10000, \"% are predicted correctly and\", acc1[1]/10000, \"% are mispredicted\") "
   ]
  },
  {
   "cell_type": "code",
   "execution_count": null,
   "metadata": {},
   "outputs": [],
   "source": []
  }
 ],
 "metadata": {
  "kernelspec": {
   "display_name": "Python 3",
   "language": "python",
   "name": "python3"
  },
  "language_info": {
   "codemirror_mode": {
    "name": "ipython",
    "version": 3
   },
   "file_extension": ".py",
   "mimetype": "text/x-python",
   "name": "python",
   "nbconvert_exporter": "python",
   "pygments_lexer": "ipython3",
   "version": "3.5.2"
  }
 },
 "nbformat": 4,
 "nbformat_minor": 2
}
