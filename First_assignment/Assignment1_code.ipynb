{
 "cells": [
  {
   "cell_type": "code",
   "execution_count": 2,
   "metadata": {},
   "outputs": [],
   "source": [
    "import numpy as np\n",
    "import csv"
   ]
  },
  {
   "cell_type": "code",
   "execution_count": 9,
   "metadata": {},
   "outputs": [],
   "source": [
    "l1=[]\n",
    "average=[0,0,0,0]\n",
    "for N in [10,100,1000,10000,100000]:\n",
    "    for i in range(100):\n",
    "        s=np.random.normal(0, 1, N)\n",
    "        mle_mu=np.sum(s)/N\n",
    "        unb_mu=np.sum(s)/N\n",
    "        t1=s-mle_mu\n",
    "        t2=np.square(t1)\n",
    "        t3=np.sum(t2)\n",
    "        mle_v=t3/N\n",
    "        unb_v=t3/(N-1)\n",
    "        l=[]\n",
    "        l.append(0-mle_mu)\n",
    "        l.append(0-unb_mu)\n",
    "        l.append(1-mle_v)\n",
    "        l.append(1-unb_v)\n",
    "        for el in range(len(l)):\n",
    "            average[el]=average[el]+l[el]\n",
    "        l1.append(l)\n",
    "    for k in range(len(average)):\n",
    "        average[k] = average[k]/100\n",
    "    l1.append(average)\n",
    "    np.savetxt(\"data\"+str(N)+\".csv\",np.array(l1),delimiter=',')\n",
    "    l1=[]"
   ]
  },
  {
   "cell_type": "code",
   "execution_count": 10,
   "metadata": {},
   "outputs": [
    {
     "name": "stdout",
     "output_type": "stream",
     "text": [
      "1.453861983227241195e-01,1.453861983227241195e-01,7.446542719428750345e-02,1.938504746603195716e-01\r\n",
      "7.393574653351064896e-02,7.393574653351064896e-02,2.792799568601832538e-01,2.719999564244274248e-01\r\n",
      "5.040154714765449073e-02,5.040154714765449073e-02,3.921015476087341689e-02,4.025040516603950458e-02\r\n",
      "2.804185917196946160e-05,2.804185917196946160e-05,6.679024394480093108e-03,6.579682362716332555e-03\r\n",
      "7.207903636727956698e-03,7.207903636727956698e-03,6.304820840845826169e-03,6.294883789683680675e-03\r\n"
     ]
    }
   ],
   "source": [
    "cat data.csv"
   ]
  },
  {
   "cell_type": "code",
   "execution_count": 22,
   "metadata": {},
   "outputs": [
    {
     "data": {
      "text/plain": [
       "array([1, 4, 9])"
      ]
     },
     "execution_count": 22,
     "metadata": {},
     "output_type": "execute_result"
    }
   ],
   "source": [
    "m=[1,2,3]\n",
    "np.square(np.array(m))"
   ]
  },
  {
   "cell_type": "code",
   "execution_count": null,
   "metadata": {},
   "outputs": [],
   "source": []
  }
 ],
 "metadata": {
  "kernelspec": {
   "display_name": "Python 3",
   "language": "python",
   "name": "python3"
  },
  "language_info": {
   "codemirror_mode": {
    "name": "ipython",
    "version": 3
   },
   "file_extension": ".py",
   "mimetype": "text/x-python",
   "name": "python",
   "nbconvert_exporter": "python",
   "pygments_lexer": "ipython3",
   "version": "3.5.2"
  }
 },
 "nbformat": 4,
 "nbformat_minor": 2
}
